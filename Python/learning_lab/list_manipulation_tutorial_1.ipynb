{
 "cells": [
  {
   "cell_type": "code",
   "execution_count": 1,
   "metadata": {},
   "outputs": [
    {
     "data": {
      "text/plain": [
       "'Working with lists.'"
      ]
     },
     "execution_count": 1,
     "metadata": {},
     "output_type": "execute_result"
    }
   ],
   "source": [
    "\"\"\"Working with lists.\"\"\""
   ]
  },
  {
   "cell_type": "code",
   "execution_count": 3,
   "metadata": {},
   "outputs": [
    {
     "name": "stdout",
     "output_type": "stream",
     "text": [
      "Initial list: [2, 2.5, 'Python']\n"
     ]
    }
   ],
   "source": [
    "# Creating list\n",
    "\n",
    "example_list = [2, 2.5, \"Python\"]\n",
    "print(f\"Initial list: {example_list}\")"
   ]
  },
  {
   "cell_type": "code",
   "execution_count": 7,
   "metadata": {},
   "outputs": [
    {
     "name": "stdout",
     "output_type": "stream",
     "text": [
      "['H', 'e', 'l', 'p']\n",
      "H\n",
      "e\n",
      "l\n",
      "p\n"
     ]
    }
   ],
   "source": [
    "# Convert String to List\n",
    "\n",
    "str_list = list(\"Help\")\n",
    "print(f\"{str_list}\")\n",
    "\n",
    "for element in str_list:\n",
    "    print(element)"
   ]
  },
  {
   "cell_type": "code",
   "execution_count": 16,
   "metadata": {},
   "outputs": [
    {
     "name": "stdout",
     "output_type": "stream",
     "text": [
      "List length: 4\n",
      "1 - H\n",
      "2 - e\n",
      "3 - l\n",
      "4 - p\n"
     ]
    }
   ],
   "source": [
    "# List length\n",
    "\n",
    "len(str_list)\n",
    "\n",
    "print(f\"List length: {len(str_list)}\")\n",
    "\n",
    "for index, cell  in enumerate (str_list, start = 1):\n",
    "    print(f\"{index} - {cell}\")"
   ]
  },
  {
   "cell_type": "code",
   "execution_count": null,
   "metadata": {},
   "outputs": [],
   "source": []
  }
 ],
 "metadata": {
  "kernelspec": {
   "display_name": "base",
   "language": "python",
   "name": "python3"
  },
  "language_info": {
   "codemirror_mode": {
    "name": "ipython",
    "version": 3
   },
   "file_extension": ".py",
   "mimetype": "text/x-python",
   "name": "python",
   "nbconvert_exporter": "python",
   "pygments_lexer": "ipython3",
   "version": "3.12.4"
  }
 },
 "nbformat": 4,
 "nbformat_minor": 2
}
