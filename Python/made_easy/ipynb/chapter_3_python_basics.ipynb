{
 "cells": [
  {
   "cell_type": "code",
   "execution_count": 156,
   "metadata": {},
   "outputs": [
    {
     "data": {
      "text/plain": [
       "\"Note-taking for Chapter 3 'Python Basics' & exercises.\""
      ]
     },
     "execution_count": 156,
     "metadata": {},
     "output_type": "execute_result"
    }
   ],
   "source": [
    "\"\"\"Note-taking for Chapter 3 'Python Basics' & exercises.\"\"\""
   ]
  },
  {
   "cell_type": "markdown",
   "metadata": {},
   "source": [
    "# Date: 17/10/24\n",
    "\n",
    "## Summary of Chapter 3 (Python Basics)\n",
    "\n",
    "In this chapter, we first became acquainted with Spyder IDE and Jupyter Notebook. Then, we began working with Python and learned how to use it as a calculator. We also performed several string manipulations. After that, we delved into the basic structure of Python code and explored expressions, operators, and variables. \n",
    "\n",
    "We wrote our first multi-line program and studied several coding principles in Python, such as multiple assignment, indentation, loops, and output. We also learned how the `print()` function works, which introduced us to two key concepts: arguments and keyword arguments."
   ]
  },
  {
   "cell_type": "code",
   "execution_count": 2,
   "metadata": {},
   "outputs": [
    {
     "name": "stdout",
     "output_type": "stream",
     "text": [
      "Hello World!\n"
     ]
    }
   ],
   "source": [
    "print(\"Hello World!\")"
   ]
  },
  {
   "cell_type": "code",
   "execution_count": 3,
   "metadata": {},
   "outputs": [
    {
     "data": {
      "text/plain": [
       "4"
      ]
     },
     "execution_count": 3,
     "metadata": {},
     "output_type": "execute_result"
    }
   ],
   "source": [
    "2 + 2"
   ]
  },
  {
   "cell_type": "code",
   "execution_count": 4,
   "metadata": {},
   "outputs": [
    {
     "data": {
      "text/plain": [
       "20"
      ]
     },
     "execution_count": 4,
     "metadata": {},
     "output_type": "execute_result"
    }
   ],
   "source": [
    "50 - 5 * 6"
   ]
  },
  {
   "cell_type": "code",
   "execution_count": 5,
   "metadata": {},
   "outputs": [
    {
     "data": {
      "text/plain": [
       "5.0"
      ]
     },
     "execution_count": 5,
     "metadata": {},
     "output_type": "execute_result"
    }
   ],
   "source": [
    "(50 - 5 * 6) / 4"
   ]
  },
  {
   "cell_type": "code",
   "execution_count": 15,
   "metadata": {},
   "outputs": [
    {
     "data": {
      "text/plain": [
       "2.0"
      ]
     },
     "execution_count": 15,
     "metadata": {},
     "output_type": "execute_result"
    }
   ],
   "source": [
    "8 / 4  # division always returns a floating point number"
   ]
  },
  {
   "cell_type": "code",
   "execution_count": 11,
   "metadata": {},
   "outputs": [
    {
     "data": {
      "text/plain": [
       "4"
      ]
     },
     "execution_count": 11,
     "metadata": {},
     "output_type": "execute_result"
    }
   ],
   "source": [
    "17 // 4  # floor division discards the fractional part"
   ]
  },
  {
   "cell_type": "code",
   "execution_count": 12,
   "metadata": {},
   "outputs": [
    {
     "data": {
      "text/plain": [
       "1"
      ]
     },
     "execution_count": 12,
     "metadata": {},
     "output_type": "execute_result"
    }
   ],
   "source": [
    "17 % 4  # % operator returns the remainder of the division"
   ]
  },
  {
   "cell_type": "code",
   "execution_count": 14,
   "metadata": {},
   "outputs": [
    {
     "data": {
      "text/plain": [
       "17"
      ]
     },
     "execution_count": 14,
     "metadata": {},
     "output_type": "execute_result"
    }
   ],
   "source": [
    "4 * 4 + 1  # result * divisor + remainder"
   ]
  },
  {
   "cell_type": "code",
   "execution_count": 16,
   "metadata": {},
   "outputs": [
    {
     "data": {
      "text/plain": [
       "25"
      ]
     },
     "execution_count": 16,
     "metadata": {},
     "output_type": "execute_result"
    }
   ],
   "source": [
    "5**2  # squared"
   ]
  },
  {
   "cell_type": "code",
   "execution_count": 17,
   "metadata": {},
   "outputs": [
    {
     "data": {
      "text/plain": [
       "256"
      ]
     },
     "execution_count": 17,
     "metadata": {},
     "output_type": "execute_result"
    }
   ],
   "source": [
    "2**8  # 2 to the power of 8"
   ]
  },
  {
   "cell_type": "code",
   "execution_count": null,
   "metadata": {},
   "outputs": [],
   "source": [
    "width = 20\n",
    "height = 5 * 9"
   ]
  },
  {
   "cell_type": "code",
   "execution_count": 18,
   "metadata": {},
   "outputs": [
    {
     "data": {
      "text/plain": [
       "'python strings'"
      ]
     },
     "execution_count": 18,
     "metadata": {},
     "output_type": "execute_result"
    }
   ],
   "source": [
    "value_str_a = \"python strings\"\n",
    "value_str_a"
   ]
  },
  {
   "cell_type": "code",
   "execution_count": 183,
   "metadata": {},
   "outputs": [
    {
     "data": {
      "text/plain": [
       "\"doesn't\""
      ]
     },
     "execution_count": 183,
     "metadata": {},
     "output_type": "execute_result"
    }
   ],
   "source": [
    "value_str_b = \"doesn't\"\n",
    "value_str_b"
   ]
  },
  {
   "cell_type": "code",
   "execution_count": 23,
   "metadata": {},
   "outputs": [
    {
     "name": "stdout",
     "output_type": "stream",
     "text": [
      "\"Isn't\" they said.\n"
     ]
    }
   ],
   "source": [
    "print('\"Isn\\'t\" they said.')"
   ]
  },
  {
   "cell_type": "code",
   "execution_count": 191,
   "metadata": {},
   "outputs": [
    {
     "name": "stdout",
     "output_type": "stream",
     "text": [
      "C:\\some\n",
      "ame\n"
     ]
    }
   ],
   "source": [
    "print(\"C:\\\\some\\name\")  # note the \\n before the quote"
   ]
  },
  {
   "cell_type": "code",
   "execution_count": 26,
   "metadata": {},
   "outputs": [
    {
     "name": "stdout",
     "output_type": "stream",
     "text": [
      "C:\\some\\name\n"
     ]
    }
   ],
   "source": [
    "print(r\"C:\\some\\name\")  # note the r before the quote"
   ]
  },
  {
   "cell_type": "markdown",
   "metadata": {},
   "source": [
    "Concatenation and Repetition"
   ]
  },
  {
   "cell_type": "code",
   "execution_count": 27,
   "metadata": {},
   "outputs": [
    {
     "data": {
      "text/plain": [
       "'ab'"
      ]
     },
     "execution_count": 27,
     "metadata": {},
     "output_type": "execute_result"
    }
   ],
   "source": [
    "\"a\" + \"b\""
   ]
  },
  {
   "cell_type": "code",
   "execution_count": 28,
   "metadata": {},
   "outputs": [
    {
     "data": {
      "text/plain": [
       "'ttttt'"
      ]
     },
     "execution_count": 28,
     "metadata": {},
     "output_type": "execute_result"
    }
   ],
   "source": [
    "\"t\" * 5"
   ]
  },
  {
   "cell_type": "code",
   "execution_count": 29,
   "metadata": {},
   "outputs": [
    {
     "data": {
      "text/plain": [
       "'nononodir'"
      ]
     },
     "execution_count": 29,
     "metadata": {},
     "output_type": "execute_result"
    }
   ],
   "source": [
    "\"no\" * 3 + \"dir\""
   ]
  },
  {
   "cell_type": "code",
   "execution_count": 192,
   "metadata": {},
   "outputs": [
    {
     "data": {
      "text/plain": [
       "'nilabh'"
      ]
     },
     "execution_count": 192,
     "metadata": {},
     "output_type": "execute_result"
    }
   ],
   "source": [
    "# \"nil\" \"abh\"\n",
    "\"nil\" + \"abh\""
   ]
  },
  {
   "cell_type": "code",
   "execution_count": 197,
   "metadata": {},
   "outputs": [],
   "source": [
    "# text = \"Join several strings within-\" \"-to have them combined.\"\n",
    "\n",
    "text = \"Join several strings within-\" + \"-to have them combined.\""
   ]
  },
  {
   "cell_type": "code",
   "execution_count": 196,
   "metadata": {},
   "outputs": [
    {
     "data": {
      "text/plain": [
       "'Join several strings within--to have them combined.'"
      ]
     },
     "execution_count": 196,
     "metadata": {},
     "output_type": "execute_result"
    }
   ],
   "source": [
    "text"
   ]
  },
  {
   "cell_type": "code",
   "execution_count": 33,
   "metadata": {},
   "outputs": [],
   "source": [
    "word = \"Python\""
   ]
  },
  {
   "cell_type": "code",
   "execution_count": 35,
   "metadata": {},
   "outputs": [
    {
     "data": {
      "text/plain": [
       "'Python'"
      ]
     },
     "execution_count": 35,
     "metadata": {},
     "output_type": "execute_result"
    }
   ],
   "source": [
    "word"
   ]
  },
  {
   "cell_type": "code",
   "execution_count": 34,
   "metadata": {},
   "outputs": [
    {
     "data": {
      "text/plain": [
       "'P'"
      ]
     },
     "execution_count": 34,
     "metadata": {},
     "output_type": "execute_result"
    }
   ],
   "source": [
    "word[0]"
   ]
  },
  {
   "cell_type": "code",
   "execution_count": 36,
   "metadata": {},
   "outputs": [
    {
     "data": {
      "text/plain": [
       "'n'"
      ]
     },
     "execution_count": 36,
     "metadata": {},
     "output_type": "execute_result"
    }
   ],
   "source": [
    "word[5]"
   ]
  },
  {
   "cell_type": "code",
   "execution_count": 38,
   "metadata": {},
   "outputs": [
    {
     "data": {
      "text/plain": [
       "'t'"
      ]
     },
     "execution_count": 38,
     "metadata": {},
     "output_type": "execute_result"
    }
   ],
   "source": [
    "word[-4]"
   ]
  },
  {
   "cell_type": "code",
   "execution_count": 39,
   "metadata": {},
   "outputs": [
    {
     "data": {
      "text/plain": [
       "'Py'"
      ]
     },
     "execution_count": 39,
     "metadata": {},
     "output_type": "execute_result"
    }
   ],
   "source": [
    "word[0:2]  # characters from position 0 (included) to 2 (excluded)"
   ]
  },
  {
   "cell_type": "code",
   "execution_count": 40,
   "metadata": {},
   "outputs": [
    {
     "data": {
      "text/plain": [
       "'tho'"
      ]
     },
     "execution_count": 40,
     "metadata": {},
     "output_type": "execute_result"
    }
   ],
   "source": [
    "word[2:5]"
   ]
  },
  {
   "cell_type": "code",
   "execution_count": 41,
   "metadata": {},
   "outputs": [
    {
     "data": {
      "text/plain": [
       "'Python'"
      ]
     },
     "execution_count": 41,
     "metadata": {},
     "output_type": "execute_result"
    }
   ],
   "source": [
    "word[:2] + word[2:]"
   ]
  },
  {
   "cell_type": "code",
   "execution_count": 44,
   "metadata": {},
   "outputs": [
    {
     "data": {
      "text/plain": [
       "6"
      ]
     },
     "execution_count": 44,
     "metadata": {},
     "output_type": "execute_result"
    }
   ],
   "source": [
    "len(word)"
   ]
  },
  {
   "cell_type": "code",
   "execution_count": 45,
   "metadata": {},
   "outputs": [
    {
     "name": "stdout",
     "output_type": "stream",
     "text": [
      "45\n"
     ]
    }
   ],
   "source": [
    "variable_a = 45\n",
    "\n",
    "print(variable_a)"
   ]
  },
  {
   "cell_type": "code",
   "execution_count": 46,
   "metadata": {},
   "outputs": [
    {
     "name": "stdout",
     "output_type": "stream",
     "text": [
      "5\n"
     ]
    }
   ],
   "source": [
    "variable_a = 3 + 2\n",
    "\n",
    "print(variable_a)"
   ]
  },
  {
   "cell_type": "code",
   "execution_count": 47,
   "metadata": {},
   "outputs": [
    {
     "data": {
      "text/plain": [
       "5"
      ]
     },
     "execution_count": 47,
     "metadata": {},
     "output_type": "execute_result"
    }
   ],
   "source": [
    "2 + 3"
   ]
  },
  {
   "cell_type": "code",
   "execution_count": 48,
   "metadata": {},
   "outputs": [
    {
     "data": {
      "text/plain": [
       "15"
      ]
     },
     "execution_count": 48,
     "metadata": {},
     "output_type": "execute_result"
    }
   ],
   "source": [
    "15"
   ]
  },
  {
   "cell_type": "code",
   "execution_count": 49,
   "metadata": {},
   "outputs": [
    {
     "data": {
      "text/plain": [
       "5"
      ]
     },
     "execution_count": 49,
     "metadata": {},
     "output_type": "execute_result"
    }
   ],
   "source": [
    "variable_a"
   ]
  },
  {
   "cell_type": "code",
   "execution_count": 199,
   "metadata": {},
   "outputs": [
    {
     "data": {
      "text/plain": [
       "'Hello World'"
      ]
     },
     "execution_count": 199,
     "metadata": {},
     "output_type": "execute_result"
    }
   ],
   "source": [
    "# \"Hello World\"\n",
    "\n",
    "value_str = \"Hello World\"\n",
    "\n",
    "value_str"
   ]
  },
  {
   "cell_type": "code",
   "execution_count": 51,
   "metadata": {},
   "outputs": [
    {
     "name": "stdout",
     "output_type": "stream",
     "text": [
      "Hello World\n"
     ]
    }
   ],
   "source": [
    "print(\"Hello World\")"
   ]
  },
  {
   "cell_type": "code",
   "execution_count": 117,
   "metadata": {},
   "outputs": [
    {
     "name": "stdout",
     "output_type": "stream",
     "text": [
      "0\n",
      "1\n",
      "1\n",
      "2\n",
      "3\n",
      "5\n",
      "8\n"
     ]
    }
   ],
   "source": [
    "variable_a = 0\n",
    "variable_b = 1\n",
    "while variable_a < 10:\n",
    "    print(variable_a)\n",
    "    variable_a, variable_b = variable_b, variable_a + variable_b"
   ]
  },
  {
   "cell_type": "code",
   "execution_count": 118,
   "metadata": {},
   "outputs": [
    {
     "name": "stdout",
     "output_type": "stream",
     "text": [
      "0\n",
      "1\n",
      "1\n",
      "2\n",
      "3\n",
      "5\n",
      "8\n",
      "13\n"
     ]
    }
   ],
   "source": [
    "var_a, var_b = 0, 1\n",
    "while var_a < 15:\n",
    "    print(var_a)\n",
    "    var_a, var_b = var_b, var_a + var_b"
   ]
  },
  {
   "cell_type": "code",
   "execution_count": 120,
   "metadata": {},
   "outputs": [
    {
     "name": "stdout",
     "output_type": "stream",
     "text": [
      "The value of val_i is 65536\n"
     ]
    }
   ],
   "source": [
    "val_i = 256 * 256\n",
    "print(\"The value of val_i is\", val_i)"
   ]
  },
  {
   "cell_type": "code",
   "execution_count": 123,
   "metadata": {},
   "outputs": [
    {
     "name": "stdout",
     "output_type": "stream",
     "text": [
      "0,1,1,2,3,5,8,13,"
     ]
    }
   ],
   "source": [
    "val_c, val_d = 0, 1\n",
    "while val_c < 15:\n",
    "    print(val_c, end=\",\")\n",
    "    val_c, val_d = val_d, val_c + val_d"
   ]
  },
  {
   "cell_type": "code",
   "execution_count": 200,
   "metadata": {},
   "outputs": [
    {
     "name": "stdout",
     "output_type": "stream",
     "text": [
      "when 5 is multiplied by 6, the result is 30\n"
     ]
    }
   ],
   "source": [
    "v_a, v_b, v_c = 5, 6, 5 * 6\n",
    "\n",
    "# print(\"when {} is multiplied by {}, the result is {}\".format(v_a, v_b, v_c))\n",
    "\n",
    "print(f\"when {v_a} is multiplied by {v_b}, the result is {v_c}\")"
   ]
  },
  {
   "cell_type": "code",
   "execution_count": 125,
   "metadata": {},
   "outputs": [
    {
     "name": "stdout",
     "output_type": "stream",
     "text": [
      "Nilabh Nishchhal lives in Mumbai\n"
     ]
    }
   ],
   "source": [
    "name = \"Nilabh\"\n",
    "lastname = \"Nishchhal\"\n",
    "place = \"Mumbai\"\n",
    "\n",
    "# print(\"{} {} lives in {}\".format(name, lastname, place))\n",
    "\n",
    "print(f\"{name} {lastname} lives in {place}\")"
   ]
  },
  {
   "cell_type": "code",
   "execution_count": 128,
   "metadata": {},
   "outputs": [
    {
     "name": "stdout",
     "output_type": "stream",
     "text": [
      "     /|\n",
      "    / |\n",
      "   /  |\n",
      "  /   |\n",
      " /    |\n",
      "/_____|\n"
     ]
    }
   ],
   "source": [
    "print(\"     /|\")\n",
    "print(\"    / |\")\n",
    "print(\"   /  |\")\n",
    "print(\"  /   |\")\n",
    "print(\" /    |\")\n",
    "print(\"/_____|\")"
   ]
  },
  {
   "cell_type": "markdown",
   "metadata": {},
   "source": [
    "## 3.8.1 Answer the questions\n",
    "\n",
    "1. **What are the advantages of the Spyder IDE over a simple text editor?**\n",
    "   - Spyder provides an integrated environment for coding in Python, with debugging tools, code completion, and other advanced features, unlike a simple text editor.\n",
    "\n",
    "2. **How are the operators for addition, subtraction, multiplication, and division written in Python?**\n",
    "   - Addition: `+`, Subtraction: `-`, Multiplication: `*`, Division: `/`\n",
    "\n",
    "3. **What is the difference between the `*` and `**` operators in Python?**\n",
    "   - `*` is used for multiplication, while `**` is used for exponentiation.\n",
    "\n",
    "4. **What are expressions in Python, and why are they important?**\n",
    "   - Expressions are combinations of values, variables, and operators. They are crucial because they form the basic building blocks of Python programs, allowing the execution of operations.\n",
    "\n",
    "5. **What is a variable, and how can a value be assigned to it in Python?**\n",
    "   - A variable is a storage location in memory with a name. You assign a value using the assignment operator `=`, for example, `x = 5`.\n",
    "\n",
    "6. **Can a variable be named `import` in Python? Justify your answer.**\n",
    "   - No, `import` is a reserved keyword in Python and cannot be used as a variable name.\n",
    "\n",
    "7. **Are the names `math`, `Math`, and `MATH` equivalent in Python? Justify your answer.**\n",
    "   - No, Python is case-sensitive, so `math`, `Math`, and `MATH` are treated as different identifiers.\n",
    "\n",
    "8. **How can expressions be grouped in Python?**\n",
    "   - Expressions can be grouped using parentheses `()` to control the order of operations.\n",
    "\n",
    "9. **What is the difference between a syntactic error and a semantic error?**\n",
    "   - A syntactic error occurs when the code violates the grammar rules of Python, while a semantic error happens when the code runs but produces incorrect results.\n",
    "\n",
    "10. **What are the default values of the keyword arguments `sep` and `end` in the syntax of the `print()` function?**\n",
    "   - The default value of `sep` is a space `' '`, and the default value of `end` is a newline character `\\n`."
   ]
  },
  {
   "cell_type": "markdown",
   "metadata": {},
   "source": [
    "## 3.8.2 True or False\n",
    "\n",
    "1. **Simple division of an even number by 2 returns an object of type int (integer).**  \n",
    "   False. Simple division (using `/`) in Python always returns a float, even if dividing even numbers.\n",
    "\n",
    "2. **A positive string index starts from 0, and a negative index starts from -1.**  \n",
    "   True.\n",
    "\n",
    "3. **Python strings can be modified, or in other words, they are mutable.**  \n",
    "   False. Strings in Python are immutable, meaning they cannot be changed once created.\n",
    "\n",
    "4. **`Dream team` is a valid variable name in Python.**  \n",
    "   False. Variable names in Python cannot contain spaces.\n",
    "\n",
    "5. **In Python, you can give a variable the name `lambda`.**  \n",
    "   False. `lambda` is a reserved keyword in Python and cannot be used as a variable name.\n",
    "\n",
    "6. **Expressions in Python end with a period (`.`).**  \n",
    "   False. Python statements do not end with any special symbol (unlike some other languages like JavaScript or C).\n",
    "\n",
    "7. **The expressions `a = 25` and `a == 25` in Python are equivalent.**  \n",
    "   False. `a = 25` is an assignment, while `a == 25` is a comparison.\n",
    "\n",
    "8. **The output of an expression using the `print()` function is not the same as the evaluation of that expression.**  \n",
    "   True. The `print()` function only displays the result, while the actual evaluation occurs when the expression is executed.\n",
    "\n",
    "9. **Semantic errors are a subtype of syntax errors.**  \n",
    "   False. Semantic errors relate to the logic of the program, while syntax errors occur when the code does not conform to Python's grammar.\n",
    "\n",
    "10. **Division by zero raises a runtime error.**  \n",
    "    True. Division by zero is undefined and causes a `ZeroDivisionError` at runtime."
   ]
  },
  {
   "cell_type": "markdown",
   "metadata": {},
   "source": [
    "## 3.8.3 Practical Exercises\n",
    "\n",
    "1. **Write a program that joins your first and last name with a space between them.**\n",
    "   "
   ]
  },
  {
   "cell_type": "code",
   "execution_count": 145,
   "metadata": {},
   "outputs": [
    {
     "name": "stdout",
     "output_type": "stream",
     "text": [
      "Nayil SENATOROVAI\n"
     ]
    }
   ],
   "source": [
    "# 1. Join first and last name with a space between them\n",
    "first_name = \"Nayil\"\n",
    "last_name = \"SENATOROVAI\"\n",
    "print(first_name + \" \" + last_name)"
   ]
  },
  {
   "cell_type": "markdown",
   "metadata": {},
   "source": [
    "2. **A rectangle has a length `l` and height `h`. Write code to compute the area of a rectangle with a height of 8 and a length of 23.**"
   ]
  },
  {
   "cell_type": "code",
   "execution_count": 146,
   "metadata": {},
   "outputs": [
    {
     "name": "stdout",
     "output_type": "stream",
     "text": [
      "Area of the rectangle: 184\n"
     ]
    }
   ],
   "source": [
    "# 2. Compute the area of a rectangle with a height of 8 and a length of 23\n",
    "length = 23  # Renamed 'l' to 'length' to avoid confusion with the number 1\n",
    "height = 8\n",
    "area = length * height\n",
    "print(\"Area of the rectangle:\", area)"
   ]
  },
  {
   "cell_type": "markdown",
   "metadata": {},
   "source": [
    "3. **What is the square of 32 and the cube of 27? Write an operator to answer this question.**"
   ]
  },
  {
   "cell_type": "code",
   "execution_count": 147,
   "metadata": {},
   "outputs": [
    {
     "name": "stdout",
     "output_type": "stream",
     "text": [
      "Square of 32: 1024\n",
      "Cube of 27: 19683\n"
     ]
    }
   ],
   "source": [
    "# 3. Square of 32 and cube of 27\n",
    "square_32 = 32**2\n",
    "cube_27 = 27**3\n",
    "print(\"Square of 32:\", square_32)\n",
    "print(\"Cube of 27:\", cube_27)"
   ]
  },
  {
   "cell_type": "markdown",
   "metadata": {},
   "source": [
    "4. **Write the following equation in Python. Assign numeric values to the variables and compute the result.**"
   ]
  },
  {
   "cell_type": "code",
   "execution_count": 158,
   "metadata": {},
   "outputs": [
    {
     "name": "stdout",
     "output_type": "stream",
     "text": [
      "Result of the equation: 64\n"
     ]
    }
   ],
   "source": [
    "# 4. Equation (a + b)^2 = a^2 + b^2 + 2ab\n",
    "numeric_valuea_a = 5\n",
    "numeric_valuea_b = 3\n",
    "result_equation = (numeric_valuea_a + numeric_valuea_b) ** 2\n",
    "print(\"Result of the equation:\", result_equation)"
   ]
  },
  {
   "cell_type": "markdown",
   "metadata": {},
   "source": [
    "5. **Find the length of your name using a single line of Python code.**"
   ]
  },
  {
   "cell_type": "code",
   "execution_count": 149,
   "metadata": {},
   "outputs": [
    {
     "name": "stdout",
     "output_type": "stream",
     "text": [
      "Length of name: 5\n"
     ]
    }
   ],
   "source": [
    "# 5. Find the length of your name\n",
    "name = \"Nayil\"\n",
    "print(\"Length of name:\", len(name))"
   ]
  },
  {
   "cell_type": "markdown",
   "metadata": {},
   "source": [
    "6. **Draw a rectangle using the `print()` function.**"
   ]
  },
  {
   "cell_type": "code",
   "execution_count": 150,
   "metadata": {},
   "outputs": [
    {
     "name": "stdout",
     "output_type": "stream",
     "text": [
      "******\n",
      "*    *\n",
      "*    *\n",
      "******\n"
     ]
    }
   ],
   "source": [
    "# 6. Draw a rectangle using the print function\n",
    "print(\"******\")\n",
    "print(\"*    *\")\n",
    "print(\"*    *\")\n",
    "print(\"******\")"
   ]
  },
  {
   "cell_type": "markdown",
   "metadata": {},
   "source": [
    "7. **Draw the letter \"R\" using simple geometry and the `print()` function.**"
   ]
  },
  {
   "cell_type": "code",
   "execution_count": 151,
   "metadata": {},
   "outputs": [
    {
     "name": "stdout",
     "output_type": "stream",
     "text": [
      "RRRR\n",
      "R   R\n",
      "RRRR\n",
      "R  R\n",
      "R   R\n"
     ]
    }
   ],
   "source": [
    "# 7. Draw the letter \"R\" using simple geometry and print function\n",
    "print(\"RRRR\")\n",
    "print(\"R   R\")\n",
    "print(\"RRRR\")\n",
    "print(\"R  R\")\n",
    "print(\"R   R\")"
   ]
  },
  {
   "cell_type": "markdown",
   "metadata": {},
   "source": [
    "8. **Create a variable `Name` with your name and a variable `Age` with your age. Write a `print()` statement that outputs \"My name is Name and my age is Age\".**"
   ]
  },
  {
   "cell_type": "code",
   "execution_count": 153,
   "metadata": {},
   "outputs": [
    {
     "name": "stdout",
     "output_type": "stream",
     "text": [
      "My name is Nayil and my age is 39\n"
     ]
    }
   ],
   "source": [
    "# 8. Create a variable Name with your name and Age, and print the output\n",
    "Name = \"Nayil\"\n",
    "Age = 39\n",
    "print(f\"My name is {Name} and my age is {Age}\")"
   ]
  },
  {
   "cell_type": "markdown",
   "metadata": {},
   "source": [
    "9. **Fix the syntax error in the following code:**"
   ]
  },
  {
   "cell_type": "code",
   "execution_count": 180,
   "metadata": {},
   "outputs": [
    {
     "name": "stdout",
     "output_type": "stream",
     "text": [
      "cat 3\n",
      "window 6\n",
      "defenestrate 12\n"
     ]
    }
   ],
   "source": [
    "# 9. Fix the syntax error in the following code\n",
    "words = [\"cat\", \"window\", \"defenestrate\"]\n",
    "for value_w in words:\n",
    "    print(value_w, len(value_w))"
   ]
  },
  {
   "cell_type": "markdown",
   "metadata": {},
   "source": [
    "10. **Fix the syntax error in the following code:**"
   ]
  },
  {
   "cell_type": "code",
   "execution_count": 179,
   "metadata": {},
   "outputs": [
    {
     "name": "stdout",
     "output_type": "stream",
     "text": [
      "0, 1, 1, 2, 3, 5, 8, 13, "
     ]
    }
   ],
   "source": [
    "# 10. Fix the syntax error in the Fibonacci loop code\n",
    "value_a, value_b = 0, 1\n",
    "while value_a < 15:\n",
    "    print(value_a, end=\", \")\n",
    "    value_a, value_b = value_b, value_a + value_b"
   ]
  }
 ],
 "metadata": {
  "kernelspec": {
   "display_name": "base",
   "language": "python",
   "name": "python3"
  },
  "language_info": {
   "codemirror_mode": {
    "name": "ipython",
    "version": 3
   },
   "file_extension": ".py",
   "mimetype": "text/x-python",
   "name": "python",
   "nbconvert_exporter": "python",
   "pygments_lexer": "ipython3",
   "version": "3.12.4"
  }
 },
 "nbformat": 4,
 "nbformat_minor": 2
}
